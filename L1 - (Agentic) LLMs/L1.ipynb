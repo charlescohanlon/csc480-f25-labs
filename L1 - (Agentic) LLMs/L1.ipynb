{
  "cells": [
    {
      "cell_type": "markdown",
      "metadata": {
        "id": "u8b-OpFXR1Nv"
      },
      "source": [
        "# CSC 480-F24 Lab 1: Jupyter Basics and Python Refresher"
      ]
    },
    {
      "cell_type": "markdown",
      "metadata": {
        "id": "aIhuNpzSouLK"
      },
      "source": [
        "This lab is intended to offer a guide for creating and maintaining Jupyter Notebooks as well as to review important Python concepts."
      ]
    },
    {
      "cell_type": "markdown",
      "metadata": {
        "id": "BlvJxOkXQf0o"
      },
      "source": [
        "# Authors:\n"
      ]
    },
    {
      "cell_type": "markdown",
      "metadata": {
        "id": "6y0M9Wq5S2Wv"
      },
      "source": [
        "***Franz J. Kurfess, Siddarth Viswanathan***\n",
        "\n",
        "California Polytechnic State University, San Luis Obispo;\n",
        "\n",
        "Computer Science & Software Engineering Department"
      ]
    },
    {
      "cell_type": "markdown",
      "metadata": {
        "id": "pVI_bs4tQILD"
      },
      "source": [
        "# Part 1: Colab and Jupyter Notebooks\n"
      ]
    },
    {
      "cell_type": "code",
      "execution_count": null,
      "metadata": {
        "colab": {
          "base_uri": "https://localhost:8080/",
          "height": 34
        },
        "id": "UH-Fh3SkL5qR",
        "outputId": "0ca3a328-56e7-4fd1-ad6d-103fd1074b06"
      },
      "outputs": [],
      "source": [
        "print(\"Hello World\")"
      ]
    },
    {
      "cell_type": "markdown",
      "metadata": {
        "id": "pNFyUN2TV5xe"
      },
      "source": [
        "A Colab consists of a Jupyter notebook that is set up in the cloud. Jupyter notebooks (and thus Colabs) are composed of text cells (like this one) and code cells. An example of a code cell is below; it is marked by two square brackets '[ ]', which turn into an arrow when you move the cursor over them. Clicking on the arrow \"runs\" the cell: the code contained in the cell is executed. If the code produces an output, it is displayed underneath. There may be a number enclosed between the two brackets. This indicates that the code has been run multiple times."
      ]
    },
    {
      "cell_type": "code",
      "execution_count": null,
      "metadata": {
        "id": "Z0TnSyf_pULA"
      },
      "outputs": [],
      "source": []
    },
    {
      "cell_type": "markdown",
      "metadata": {
        "id": "PYr9fSJuMA4y"
      },
      "source": [
        "## Google Account\n",
        "You need to have a Google account that lets you store files on GDrive. If you have a Gmail account, you should be able to go to [Google Drive](https://drive.google.com/) and log in with your Gmail login and password. If not, [set up a Google Account](https://support.google.com/accounts/answer/27441?hl=en) or reach out to your instructor about alternatives.\n",
        "\n",
        "\n"
      ]
    },
    {
      "cell_type": "markdown",
      "metadata": {
        "id": "ObEp5kafQTfp"
      },
      "source": [
        "## Create Your Copy\n",
        "If you want to use and modify a lab, you need to save a copy. To do so, go to the 'File' menu, select 'Save a copy in Drive' and change the name (it begins with 'Copy of ...'). You can share Colab notebooks with others, similar to sharing a document on Google Drive. Despite the possible interpretation of the name as \"Collaboration Lab\", collaborative editing of the same document is limited.\n"
      ]
    },
    {
      "cell_type": "markdown",
      "metadata": {
        "id": "nHL9QQl7QXW9"
      },
      "source": [
        "## Set Up a Colab\n",
        "Colabs run in the cloud through your Web browser. There's no need to install software on your computer. A Colab may require other software (libraries) to run, but this is done in the Colab itself, usually at the beginning.  "
      ]
    },
    {
      "cell_type": "markdown",
      "metadata": {
        "id": "dm4rb6kITXQo"
      },
      "source": [
        "# Overview"
      ]
    },
    {
      "cell_type": "markdown",
      "metadata": {
        "id": "r1BYWB1QTeue"
      },
      "source": [
        "Let's apply our new knowledge of Jupyter Notebooks and work through some short coding exercises."
      ]
    },
    {
      "cell_type": "markdown",
      "metadata": {
        "id": "zRZebPe-UUYf"
      },
      "source": [
        "Identify the requirements and expectations concerning the background of the participants."
      ]
    },
    {
      "cell_type": "markdown",
      "metadata": {
        "id": "Ysx6aVbsUiLk"
      },
      "source": [
        "##Learning Objectives"
      ]
    },
    {
      "cell_type": "markdown",
      "metadata": {
        "id": "nU2BOLDGUluv"
      },
      "source": [
        "*   Run and create code cells in a Jupyter Notebook\n",
        "*   Review function declaration and loops in Python\n",
        "* Explore external libraries like NumPy\n",
        "\n"
      ]
    },
    {
      "cell_type": "markdown",
      "metadata": {
        "id": "wNJ5iqyzsMIc"
      },
      "source": [
        "## Exercise 1"
      ]
    },
    {
      "cell_type": "markdown",
      "metadata": {
        "id": "yG19Czm0sUuc"
      },
      "source": [
        "Given the array, `arr`, write a function that computes and prints the sum of each row or column.\n",
        "\n",
        "Input:\n",
        "\n",
        "*   `arr`, a 2-D array of integers\n",
        "*   `row_or_col`, an integer describing whether to calculate the sum over a row or column (0 = column, 1 = row)"
      ]
    },
    {
      "cell_type": "code",
      "execution_count": null,
      "metadata": {
        "id": "4IT1EVpjsbkV"
      },
      "outputs": [],
      "source": [
        "arr = [[1, 4, 5, 6],\n",
        "       [5, 12, 3, 2],\n",
        "       [17, 34, 1, 0],\n",
        "       [4, 6, 7, 9]]"
      ]
    },
    {
      "cell_type": "code",
      "execution_count": null,
      "metadata": {
        "id": "NdvhOW3JtjxW"
      },
      "outputs": [],
      "source": [
        "# Write your code here"
      ]
    },
    {
      "cell_type": "markdown",
      "metadata": {
        "id": "4XMbro9aHfjD"
      },
      "source": [
        "## Exercise 2"
      ]
    },
    {
      "cell_type": "markdown",
      "metadata": {
        "id": "TpJ0BEDwuAIh"
      },
      "source": [
        "NumPy is a powerful Python library that can efficiently store high-dimensional lists efficiently. It also offers useful functions that can simplify list manipulation tasks or calculations (like the one above)\n",
        "\n",
        "Consult the [NumPy API](https://numpy.org/doc/stable/reference/index.html#reference) or use a Generative AI Tool to create a function that converts `arr` to a NumPy array and calculate the sum through a NumPy function call.\n",
        "(Converting the array can be done in a single line and calculating the sum can be done in a single line without writing a loop)"
      ]
    },
    {
      "cell_type": "code",
      "execution_count": null,
      "metadata": {
        "vscode": {
          "languageId": "shellscript"
        }
      },
      "outputs": [],
      "source": [
        "%pip install numpy  # Install the numpy package"
      ]
    },
    {
      "cell_type": "code",
      "execution_count": null,
      "metadata": {
        "id": "Gi8p9DlIwDqn"
      },
      "outputs": [],
      "source": [
        "import numpy as np  # Normally all imports should be done at the top of a notebook\n",
        "\n",
        "# Write your code here"
      ]
    },
    {
      "cell_type": "markdown",
      "metadata": {},
      "source": [
        "# References"
      ]
    },
    {
      "cell_type": "markdown",
      "metadata": {},
      "source": [
        "* Bonner, A. (2019). Getting Started With Google Colab. Medium.\n",
        "https://towardsdatascience.com/getting-started-with-google-colab-f2fff97f594c\n",
        "* Dair.AI. (2019). Writing Primer for Data Scientists. DAIR Diverse Artificial Intelligence Research Initiative. https://colab.research.google.com/drive/1qi8bXjH389MipsFx3KVQQwGwefDgzzoe\n",
        "* Elvis. (2018). Primer for Learning Google Colab. Medium. https://medium.com/dair-ai/primer-for-learning-google-colab-bb4cabca5dd6\n",
        "* Google CoLab. (2018). Google Colaboratory: Welcome: Introduction to Machine Learning Labs. Google. https://colab.research.google.com/drive/1EIB6pAaMM6C2MIdxsrGntYrQoUfcsbmS#forceEdit=true&sandboxMode=true\n",
        "* Sagar, A. (2019). One-Stop Guide to Google Colab. Medium. https://towardsdatascience.com/one-stop-guide-to-google-colab-d67c94d30516\n",
        "\n",
        "\n"
      ]
    },
    {
      "cell_type": "markdown",
      "metadata": {
        "id": "kQtcmEbf3e5e"
      },
      "source": [
        "# Part 2: AutoGen Framework and a Simple Agent"
      ]
    },
    {
      "cell_type": "markdown",
      "metadata": {},
      "source": [
        "## AutoGen\n",
        "\n",
        "### LLM Agents\n",
        "AutoGen agents are AI entities powered by Large Language Models (LLMs) that autonomously perform tasks, make decisions, and collaborate with other agents. These agents can be customized with specific roles, capabilities, and behaviors to handle different aspects of complex problems.\n",
        "\n",
        "Key characteristics of AutoGen agents:\n",
        "- **Autonomy**: Agents can operate independently and make decisions based on their programming and context\n",
        "- **Specialization**: Each agent can be designed for specific tasks (e.g., coding, analysis, review)\n",
        "- **Communication**: Agents can exchange messages and collaborate to solve problems\n",
        "\n",
        "For more details, see the [AgentChat Quickstart](https://microsoft.github.io/autogen/stable/user-guide/agentchat-user-guide/quickstart.html)\n",
        "\n",
        "### AgentRuntime\n",
        "The AgentRuntime is the execution environment that manages the lifecycle of agents and facilitates their interactions. It provides:\n",
        "- **Agent Management**: Creates, initializes, and manages multiple agents\n",
        "- **Message Routing**: Handles communication between agents\n",
        "- **Execution Control**: Manages the flow of conversations and task execution\n",
        "- **State Management**: Maintains the state of conversations and agent interactions\n",
        "\n",
        "The runtime ensures that agents can collaborate effectively in a controlled environment. More information can be found in the [AutoGen Runtime Documentation](https://microsoft.github.io/autogen/stable/user-guide/core-user-guide/framework/agent-and-agent-runtime.html)\n",
        "\n",
        "### Group Chat Design Pattern for Task Decomposition\n",
        "The Group Chat pattern is a fundamental multi-agent design pattern in AutoGen that enables task decomposition and collaborative problem-solving:\n",
        "\n",
        "**How it works:**\n",
        "1. **Task Decomposition**: Complex problems are broken down into smaller, manageable subtasks\n",
        "2. **Agent Specialization**: Different agents are assigned specific roles (e.g., planner, coder, reviewer, executor)\n",
        "3. **Collaborative Execution**: Agents work together in a structured conversation to solve the overall problem\n",
        "4. **Dynamic Interaction**: Agents can request help, provide feedback, and iterate on solutions\n",
        "\n",
        "**Benefits:**\n",
        "- **Scalability**: Complex tasks can be distributed across multiple specialized agents\n",
        "- **Quality**: Multiple agents can review and improve each other's work\n",
        "- **Flexibility**: The conversation flow can adapt based on the problem requirements\n",
        "\n",
        "**Example Roles in Group Chat:**\n",
        "- **UserProxy**: Represents the human user and can execute code\n",
        "- **AssistantAgent**: Provides AI-powered assistance and reasoning\n",
        "- **Specialized Agents**: Custom agents for specific domains (e.g., data analysis, code review)\n",
        "\n",
        "For implementation details and examples, refer to the [AutoGen Group Chat Documentation](https://microsoft.github.io/autogen/stable/user-guide/core-user-guide/design-patterns/group-chat.html) and [Multi-Agent Patterns Guide](https://microsoft.github.io/autogen/stable/user-guide/core-user-guide/design-patterns/intro.html)"
      ]
    },
    {
      "cell_type": "markdown",
      "metadata": {},
      "source": [
        "### Core Packages"
      ]
    },
    {
      "cell_type": "code",
      "execution_count": null,
      "metadata": {
        "id": "AZpIytg593P7",
        "vscode": {
          "languageId": "shellscript"
        }
      },
      "outputs": [],
      "source": [
        "%pip install \"autogen-core\" \"autogen-agentchat\""
      ]
    },
    {
      "cell_type": "code",
      "execution_count": null,
      "metadata": {},
      "outputs": [],
      "source": [
        "import autogen_core as ag\n",
        "import autogen_agentchat as agchat"
      ]
    },
    {
      "cell_type": "markdown",
      "metadata": {},
      "source": [
        "### Asyncio\n",
        "AutoGen is built on Python's asyncio to operate the agents runtime. You don't need to know too much about how asyncio works internally. But you'll want to familiarize yourself with the library at a high level. You can do so [here](https://docs.python.org/3/library/asyncio.html)."
      ]
    },
    {
      "cell_type": "code",
      "execution_count": null,
      "metadata": {},
      "outputs": [],
      "source": [
        "import asyncio"
      ]
    }
  ],
  "metadata": {
    "colab": {
      "provenance": []
    },
    "kernelspec": {
      "display_name": "Python 3",
      "name": "python3"
    },
    "language_info": {
      "codemirror_mode": {
        "name": "ipython",
        "version": 3
      },
      "file_extension": ".py",
      "mimetype": "text/x-python",
      "name": "python",
      "nbconvert_exporter": "python",
      "pygments_lexer": "ipython3",
      "version": "3.10.18"
    }
  },
  "nbformat": 4,
  "nbformat_minor": 0
}
