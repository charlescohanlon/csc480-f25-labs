{
 "cells": [
  {
   "cell_type": "markdown",
   "metadata": {
    "id": "u8b-OpFXR1Nv"
   },
   "source": [
    "# CSC 480-F24 Lab 1: Jupyter Basics and Python Refresher"
   ]
  },
  {
   "cell_type": "markdown",
   "metadata": {
    "id": "aIhuNpzSouLK"
   },
   "source": [
    "This lab is intended to offer a guide for creating and maintaining Jupyter Notebooks as well as to review important Python concepts."
   ]
  },
  {
   "cell_type": "markdown",
   "metadata": {
    "id": "BlvJxOkXQf0o"
   },
   "source": [
    "# Authors:\n"
   ]
  },
  {
   "cell_type": "markdown",
   "metadata": {
    "id": "6y0M9Wq5S2Wv"
   },
   "source": [
    "***Franz J. Kurfess, Siddarth Viswanathan, Charles O'Hanlon***\n",
    "\n",
    "California Polytechnic State University, San Luis Obispo;\n",
    "\n",
    "Computer Science & Software Engineering Department"
   ]
  },
  {
   "cell_type": "markdown",
   "metadata": {
    "id": "pVI_bs4tQILD"
   },
   "source": [
    "# Part 1: Colab and Jupyter Notebooks\n"
   ]
  },
  {
   "cell_type": "code",
   "execution_count": null,
   "metadata": {
    "colab": {
     "base_uri": "https://localhost:8080/",
     "height": 34
    },
    "id": "UH-Fh3SkL5qR",
    "outputId": "0ca3a328-56e7-4fd1-ad6d-103fd1074b06"
   },
   "outputs": [],
   "source": [
    "print(\"Hello World\")"
   ]
  },
  {
   "cell_type": "markdown",
   "metadata": {
    "id": "pNFyUN2TV5xe"
   },
   "source": [
    "A Colab consists of a Jupyter notebook that is set up in the cloud. Jupyter notebooks (and thus Colabs) are composed of text cells (like this one) and code cells. An example of a code cell is below; it is marked by two square brackets '[ ]', which turn into an arrow when you move the cursor over them. Clicking on the arrow \"runs\" the cell: the code contained in the cell is executed. If the code produces an output, it is displayed underneath. There may be a number enclosed between the two brackets. This indicates that the code has been run multiple times."
   ]
  },
  {
   "cell_type": "code",
   "execution_count": null,
   "metadata": {
    "id": "Z0TnSyf_pULA"
   },
   "outputs": [],
   "source": []
  },
  {
   "cell_type": "markdown",
   "metadata": {
    "id": "PYr9fSJuMA4y"
   },
   "source": [
    "## Google Account\n",
    "You need to have a Google account that lets you store files on GDrive. If you have a Gmail account, you should be able to go to [Google Drive](https://drive.google.com/) and log in with your Gmail login and password. If not, [set up a Google Account](https://support.google.com/accounts/answer/27441?hl=en) or reach out to your instructor about alternatives.\n",
    "\n",
    "\n"
   ]
  },
  {
   "cell_type": "markdown",
   "metadata": {
    "id": "ObEp5kafQTfp"
   },
   "source": [
    "## Create Your Copy\n",
    "If you want to use and modify a lab, you need to save a copy. To do so, go to the 'File' menu, select 'Save a copy in Drive' and change the name (it begins with 'Copy of ...'). You can share Colab notebooks with others, similar to sharing a document on Google Drive. Despite the possible interpretation of the name as \"Collaboration Lab\", collaborative editing of the same document is limited.\n"
   ]
  },
  {
   "cell_type": "markdown",
   "metadata": {
    "id": "nHL9QQl7QXW9"
   },
   "source": [
    "## Set Up a Colab\n",
    "Colabs run in the cloud through your Web browser. There's no need to install software on your computer. A Colab may require other software (libraries) to run, but this is done in the Colab itself, usually at the beginning.  "
   ]
  },
  {
   "cell_type": "markdown",
   "metadata": {
    "id": "dm4rb6kITXQo"
   },
   "source": [
    "# Overview"
   ]
  },
  {
   "cell_type": "markdown",
   "metadata": {
    "id": "r1BYWB1QTeue"
   },
   "source": [
    "Let's apply our new knowledge of Jupyter Notebooks and work through some short coding exercises."
   ]
  },
  {
   "cell_type": "markdown",
   "metadata": {
    "id": "zRZebPe-UUYf"
   },
   "source": [
    "Identify the requirements and expectations concerning the background of the participants."
   ]
  },
  {
   "cell_type": "markdown",
   "metadata": {
    "id": "Ysx6aVbsUiLk"
   },
   "source": [
    "##Learning Objectives"
   ]
  },
  {
   "cell_type": "markdown",
   "metadata": {
    "id": "nU2BOLDGUluv"
   },
   "source": [
    "*   Run and create code cells in a Jupyter Notebook\n",
    "*   Review function declaration and loops in Python\n",
    "* Explore external libraries like NumPy\n",
    "\n"
   ]
  },
  {
   "cell_type": "markdown",
   "metadata": {
    "id": "wNJ5iqyzsMIc"
   },
   "source": [
    "## Exercise 1"
   ]
  },
  {
   "cell_type": "markdown",
   "metadata": {
    "id": "yG19Czm0sUuc"
   },
   "source": [
    "Given the array, `arr`, write a function that computes and prints the sum of each row or column.\n",
    "\n",
    "Input:\n",
    "\n",
    "*   `arr`, a 2-D array of integers\n",
    "*   `row_or_col`, an integer describing whether to calculate the sum over a row or column (0 = column, 1 = row)"
   ]
  },
  {
   "cell_type": "code",
   "execution_count": null,
   "metadata": {
    "id": "4IT1EVpjsbkV"
   },
   "outputs": [],
   "source": [
    "arr = [[1, 4, 5, 6],\n",
    "       [5, 12, 3, 2],\n",
    "       [17, 34, 1, 0],\n",
    "       [4, 6, 7, 9]]"
   ]
  },
  {
   "cell_type": "code",
   "execution_count": null,
   "metadata": {
    "id": "NdvhOW3JtjxW"
   },
   "outputs": [],
   "source": [
    "# Write your code here"
   ]
  },
  {
   "cell_type": "markdown",
   "metadata": {
    "id": "4XMbro9aHfjD"
   },
   "source": [
    "## Exercise 2"
   ]
  },
  {
   "cell_type": "markdown",
   "metadata": {
    "id": "TpJ0BEDwuAIh"
   },
   "source": [
    "NumPy is a powerful Python library that can efficiently store high-dimensional lists efficiently. It also offers useful functions that can simplify list manipulation tasks or calculations (like the one above)\n",
    "\n",
    "Consult the [NumPy API](https://numpy.org/doc/stable/reference/index.html#reference) or use a Generative AI Tool to create a function that converts `arr` to a NumPy array and calculate the sum through a NumPy function call.\n",
    "(Converting the array can be done in a single line and calculating the sum can be done in a single line without writing a loop)"
   ]
  },
  {
   "cell_type": "code",
   "execution_count": null,
   "metadata": {
    "vscode": {
     "languageId": "shellscript"
    }
   },
   "outputs": [],
   "source": [
    "%pip install numpy  # Install the numpy package"
   ]
  },
  {
   "cell_type": "code",
   "execution_count": null,
   "metadata": {
    "id": "Gi8p9DlIwDqn"
   },
   "outputs": [],
   "source": [
    "import numpy as np  # Normally all imports should be done at the top of a notebook\n",
    "\n",
    "# Write your code here"
   ]
  },
  {
   "cell_type": "markdown",
   "metadata": {},
   "source": [
    "# References"
   ]
  },
  {
   "cell_type": "markdown",
   "metadata": {},
   "source": [
    "* Bonner, A. (2019). Getting Started With Google Colab. Medium.\n",
    "https://towardsdatascience.com/getting-started-with-google-colab-f2fff97f594c\n",
    "* Dair.AI. (2019). Writing Primer for Data Scientists. DAIR Diverse Artificial Intelligence Research Initiative. https://colab.research.google.com/drive/1qi8bXjH389MipsFx3KVQQwGwefDgzzoe\n",
    "* Elvis. (2018). Primer for Learning Google Colab. Medium. https://medium.com/dair-ai/primer-for-learning-google-colab-bb4cabca5dd6\n",
    "* Google CoLab. (2018). Google Colaboratory: Welcome: Introduction to Machine Learning Labs. Google. https://colab.research.google.com/drive/1EIB6pAaMM6C2MIdxsrGntYrQoUfcsbmS#forceEdit=true&sandboxMode=true\n",
    "* Sagar, A. (2019). One-Stop Guide to Google Colab. Medium. https://towardsdatascience.com/one-stop-guide-to-google-colab-d67c94d30516\n",
    "\n",
    "\n"
   ]
  },
  {
   "cell_type": "markdown",
   "metadata": {
    "id": "kQtcmEbf3e5e"
   },
   "source": [
    "# Part 2: AutoGen Framework and a Simple Agent"
   ]
  },
  {
   "cell_type": "markdown",
   "metadata": {},
   "source": [
    "### Core Packages"
   ]
  },
  {
   "cell_type": "code",
   "execution_count": 1,
   "metadata": {
    "id": "AZpIytg593P7",
    "vscode": {
     "languageId": "shellscript"
    }
   },
   "outputs": [
    {
     "name": "stdout",
     "output_type": "stream",
     "text": [
      "Requirement already satisfied: autogen-core in /home/charles/.local/share/envs/ta480/lib/python3.10/site-packages (0.7.4)\n",
      "Requirement already satisfied: autogen-agentchat in /home/charles/.local/share/envs/ta480/lib/python3.10/site-packages (0.7.4)\n",
      "Requirement already satisfied: openai in /home/charles/.local/share/envs/ta480/lib/python3.10/site-packages (1.107.2)\n",
      "Collecting azure-identity\n",
      "  Downloading azure_identity-1.25.0-py3-none-any.whl.metadata (87 kB)\n",
      "Requirement already satisfied: autogen-ext[openai] in /home/charles/.local/share/envs/ta480/lib/python3.10/site-packages (0.7.4)\n",
      "Requirement already satisfied: jsonref~=1.1.0 in /home/charles/.local/share/envs/ta480/lib/python3.10/site-packages (from autogen-core) (1.1.0)\n",
      "Requirement already satisfied: opentelemetry-api>=1.34.1 in /home/charles/.local/share/envs/ta480/lib/python3.10/site-packages (from autogen-core) (1.37.0)\n",
      "Requirement already satisfied: pillow>=11.0.0 in /home/charles/.local/share/envs/ta480/lib/python3.10/site-packages (from autogen-core) (11.3.0)\n",
      "Requirement already satisfied: protobuf~=5.29.3 in /home/charles/.local/share/envs/ta480/lib/python3.10/site-packages (from autogen-core) (5.29.5)\n",
      "Requirement already satisfied: pydantic<3.0.0,>=2.10.0 in /home/charles/.local/share/envs/ta480/lib/python3.10/site-packages (from autogen-core) (2.11.9)\n",
      "Requirement already satisfied: typing-extensions>=4.0.0 in /home/charles/.local/lib/python3.10/site-packages (from autogen-core) (4.13.1)\n",
      "Requirement already satisfied: annotated-types>=0.6.0 in /home/charles/.local/share/envs/ta480/lib/python3.10/site-packages (from pydantic<3.0.0,>=2.10.0->autogen-core) (0.7.0)\n",
      "Requirement already satisfied: pydantic-core==2.33.2 in /home/charles/.local/share/envs/ta480/lib/python3.10/site-packages (from pydantic<3.0.0,>=2.10.0->autogen-core) (2.33.2)\n",
      "Requirement already satisfied: typing-inspection>=0.4.0 in /home/charles/.local/share/envs/ta480/lib/python3.10/site-packages (from pydantic<3.0.0,>=2.10.0->autogen-core) (0.4.1)\n",
      "Requirement already satisfied: aiofiles in /home/charles/.local/share/envs/ta480/lib/python3.10/site-packages (from autogen-ext[openai]) (24.1.0)\n",
      "Requirement already satisfied: tiktoken>=0.8.0 in /home/charles/.local/share/envs/ta480/lib/python3.10/site-packages (from autogen-ext[openai]) (0.11.0)\n",
      "Requirement already satisfied: anyio<5,>=3.5.0 in /home/charles/.local/share/envs/ta480/lib/python3.10/site-packages (from openai) (4.10.0)\n",
      "Requirement already satisfied: distro<2,>=1.7.0 in /home/charles/.local/share/envs/ta480/lib/python3.10/site-packages (from openai) (1.9.0)\n",
      "Requirement already satisfied: httpx<1,>=0.23.0 in /home/charles/.local/share/envs/ta480/lib/python3.10/site-packages (from openai) (0.28.1)\n",
      "Requirement already satisfied: jiter<1,>=0.4.0 in /home/charles/.local/share/envs/ta480/lib/python3.10/site-packages (from openai) (0.10.0)\n",
      "Requirement already satisfied: sniffio in /home/charles/.local/share/envs/ta480/lib/python3.10/site-packages (from openai) (1.3.1)\n",
      "Requirement already satisfied: tqdm>4 in /home/charles/.local/share/envs/ta480/lib/python3.10/site-packages (from openai) (4.67.1)\n",
      "Requirement already satisfied: exceptiongroup>=1.0.2 in /home/charles/.local/share/envs/ta480/lib/python3.10/site-packages (from anyio<5,>=3.5.0->openai) (1.3.0)\n",
      "Requirement already satisfied: idna>=2.8 in /home/charles/.local/share/envs/ta480/lib/python3.10/site-packages (from anyio<5,>=3.5.0->openai) (3.10)\n",
      "Requirement already satisfied: certifi in /home/charles/.local/share/envs/ta480/lib/python3.10/site-packages (from httpx<1,>=0.23.0->openai) (2025.8.3)\n",
      "Requirement already satisfied: httpcore==1.* in /home/charles/.local/share/envs/ta480/lib/python3.10/site-packages (from httpx<1,>=0.23.0->openai) (1.0.9)\n",
      "Requirement already satisfied: h11>=0.16 in /home/charles/.local/share/envs/ta480/lib/python3.10/site-packages (from httpcore==1.*->httpx<1,>=0.23.0->openai) (0.16.0)\n",
      "Collecting azure-core>=1.31.0 (from azure-identity)\n",
      "  Downloading azure_core-1.35.1-py3-none-any.whl.metadata (46 kB)\n",
      "Collecting cryptography>=2.5 (from azure-identity)\n",
      "  Downloading cryptography-46.0.1-cp38-abi3-manylinux_2_34_x86_64.whl.metadata (5.7 kB)\n",
      "Collecting msal>=1.30.0 (from azure-identity)\n",
      "  Downloading msal-1.33.0-py3-none-any.whl.metadata (11 kB)\n",
      "Collecting msal-extensions>=1.2.0 (from azure-identity)\n",
      "  Downloading msal_extensions-1.3.1-py3-none-any.whl.metadata (7.8 kB)\n",
      "Requirement already satisfied: requests>=2.21.0 in /home/charles/.local/share/envs/ta480/lib/python3.10/site-packages (from azure-core>=1.31.0->azure-identity) (2.32.5)\n",
      "Requirement already satisfied: six>=1.11.0 in /home/charles/.local/share/envs/ta480/lib/python3.10/site-packages (from azure-core>=1.31.0->azure-identity) (1.17.0)\n",
      "Collecting cffi>=2.0.0 (from cryptography>=2.5->azure-identity)\n",
      "  Downloading cffi-2.0.0-cp310-cp310-manylinux2014_x86_64.manylinux_2_17_x86_64.whl.metadata (2.6 kB)\n",
      "Collecting typing-extensions>=4.0.0 (from autogen-core)\n",
      "  Downloading typing_extensions-4.15.0-py3-none-any.whl.metadata (3.3 kB)\n",
      "Collecting pycparser (from cffi>=2.0.0->cryptography>=2.5->azure-identity)\n",
      "  Downloading pycparser-2.23-py3-none-any.whl.metadata (993 bytes)\n",
      "Collecting PyJWT<3,>=1.0.0 (from PyJWT[crypto]<3,>=1.0.0->msal>=1.30.0->azure-identity)\n",
      "  Downloading PyJWT-2.10.1-py3-none-any.whl.metadata (4.0 kB)\n",
      "Requirement already satisfied: charset_normalizer<4,>=2 in /home/charles/.local/share/envs/ta480/lib/python3.10/site-packages (from requests>=2.21.0->azure-core>=1.31.0->azure-identity) (3.4.3)\n",
      "Requirement already satisfied: urllib3<3,>=1.21.1 in /home/charles/.local/share/envs/ta480/lib/python3.10/site-packages (from requests>=2.21.0->azure-core>=1.31.0->azure-identity) (2.5.0)\n",
      "Requirement already satisfied: importlib-metadata<8.8.0,>=6.0 in /home/charles/.local/share/envs/ta480/lib/python3.10/site-packages (from opentelemetry-api>=1.34.1->autogen-core) (8.7.0)\n",
      "Requirement already satisfied: zipp>=3.20 in /home/charles/.local/share/envs/ta480/lib/python3.10/site-packages (from importlib-metadata<8.8.0,>=6.0->opentelemetry-api>=1.34.1->autogen-core) (3.23.0)\n",
      "Requirement already satisfied: regex>=2022.1.18 in /home/charles/.local/lib/python3.10/site-packages (from tiktoken>=0.8.0->autogen-ext[openai]) (2024.11.6)\n",
      "Downloading azure_identity-1.25.0-py3-none-any.whl (190 kB)\n",
      "Downloading azure_core-1.35.1-py3-none-any.whl (211 kB)\n",
      "Downloading cryptography-46.0.1-cp38-abi3-manylinux_2_34_x86_64.whl (4.6 MB)\n",
      "\u001b[2K   \u001b[90m━━━━━━━━━━━━━━━━━━━━━━━━━━━━━━━━━━━━━━━━\u001b[0m \u001b[32m4.6/4.6 MB\u001b[0m \u001b[31m172.1 MB/s\u001b[0m  \u001b[33m0:00:00\u001b[0m\n",
      "\u001b[?25hDownloading typing_extensions-4.15.0-py3-none-any.whl (44 kB)\n",
      "Downloading cffi-2.0.0-cp310-cp310-manylinux2014_x86_64.manylinux_2_17_x86_64.whl (216 kB)\n",
      "Downloading msal-1.33.0-py3-none-any.whl (116 kB)\n",
      "Downloading PyJWT-2.10.1-py3-none-any.whl (22 kB)\n",
      "Downloading msal_extensions-1.3.1-py3-none-any.whl (20 kB)\n",
      "Downloading pycparser-2.23-py3-none-any.whl (118 kB)\n",
      "Installing collected packages: typing-extensions, PyJWT, pycparser, cffi, azure-core, cryptography, msal, msal-extensions, azure-identity\n",
      "\u001b[2K  Attempting uninstall: typing-extensions\n",
      "\u001b[2K    Found existing installation: typing_extensions 4.13.1\n",
      "\u001b[2K    Uninstalling typing_extensions-4.13.1:\n",
      "\u001b[2K      Successfully uninstalled typing_extensions-4.13.1\n",
      "\u001b[2K   \u001b[90m━━━━━━━━━━━━━━━━━━━━━━━━━━━━━━━━━━━━━━━━\u001b[0m \u001b[32m9/9\u001b[0m [azure-identity]m [cryptography]\n",
      "\u001b[1A\u001b[2K\u001b[31mERROR: pip's dependency resolver does not currently take into account all the packages that are installed. This behaviour is the source of the following dependency conflicts.\n",
      "huggingface-hub 0.30.2 requires filelock, which is not installed.\n",
      "huggingface-hub 0.30.2 requires pyyaml>=5.1, which is not installed.\n",
      "transformers 4.51.1 requires filelock, which is not installed.\n",
      "transformers 4.51.1 requires pyyaml>=5.1, which is not installed.\u001b[0m\u001b[31m\n",
      "\u001b[0mSuccessfully installed PyJWT-2.10.1 azure-core-1.35.1 azure-identity-1.25.0 cffi-2.0.0 cryptography-46.0.1 msal-1.33.0 msal-extensions-1.3.1 pycparser-2.23 typing-extensions-4.15.0\n",
      "Note: you may need to restart the kernel to use updated packages.\n"
     ]
    }
   ],
   "source": [
    "%pip install \"autogen-core\" \"autogen-agentchat\" \"autogen-ext[openai]\" \"openai\" \"azure-identity\""
   ]
  },
  {
   "cell_type": "code",
   "execution_count": null,
   "metadata": {},
   "outputs": [],
   "source": [
    "import os\n",
    "import asyncio\n",
    "from autogen_agentchat.agents import AssistantAgent\n",
    "from autogen_agentchat.ui import Console\n",
    "from autogen_ext.models.openai import AzureOpenAIChatCompletionClient\n",
    "from azure.identity import DefaultAzureCredential, get_bearer_token_provider\n",
    "\n",
    "bearer_token_provider = get_bearer_token_provider(\n",
    "    DefaultAzureCredential(), \"https://cognitiveservices.azure.com/.default\"\n",
    ")"
   ]
  },
  {
   "cell_type": "markdown",
   "metadata": {},
   "source": [
    "## Simple Agent"
   ]
  },
  {
   "cell_type": "code",
   "execution_count": null,
   "metadata": {},
   "outputs": [],
   "source": [
    "# Set up OpenAI API key (you'll need to set this)\n",
    "# You can either set it as an environment variable or directly here\n",
    "\n",
    "# os.environ[\"OPENAI_API_KEY\"] = \"your-api-key-here\""
   ]
  },
  {
   "cell_type": "code",
   "execution_count": null,
   "metadata": {},
   "outputs": [],
   "source": [
    "# Create a simple LLM assistant agent for command line interaction\n",
    "async def setup_simple_chat():\n",
    "    # Create the proper AutoGen OpenAI model client\n",
    "    client = AzureOpenAIChatCompletionClient(\n",
    "        model=\"gpt-5\"\n",
    "        # api_key will be automatically read from OPENAI_API_KEY environment variable\n",
    "    )\n",
    "\n",
    "    # Create a simple assistant agent using OpenAI\n",
    "    assistant = AssistantAgent(\n",
    "        name=\"SimpleAgent\",\n",
    "        model_client=client,\n",
    "        system_message=\"You are a helpful AI assistant. Provide clear, concise, and helpful responses to user questions.\",\n",
    "    )\n",
    "\n",
    "    try:\n",
    "        # Use Console for interactive chat\n",
    "        await Console(assistant.run_stream(task=\"Hello world\"))\n",
    "    except KeyboardInterrupt:\n",
    "        print(\"\\nChat ended by user.\")\n",
    "\n",
    "\n",
    "# Run the simple chat assistant\n",
    "await setup_simple_chat()"
   ]
  }
 ],
 "metadata": {
  "colab": {
   "provenance": []
  },
  "kernelspec": {
   "display_name": "Python 3",
   "name": "python3"
  },
  "language_info": {
   "codemirror_mode": {
    "name": "ipython",
    "version": 3
   },
   "file_extension": ".py",
   "mimetype": "text/x-python",
   "name": "python",
   "nbconvert_exporter": "python",
   "pygments_lexer": "ipython3",
   "version": "3.10.18"
  }
 },
 "nbformat": 4,
 "nbformat_minor": 0
}
