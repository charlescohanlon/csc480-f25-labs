{
 "cells": [
  {
   "cell_type": "markdown",
   "metadata": {
    "id": "u8b-OpFXR1Nv"
   },
   "source": [
    "# CSC 480-F25 Lab 1: (Agentic) LLMs"
   ]
  },
  {
   "cell_type": "markdown",
   "metadata": {
    "id": "BlvJxOkXQf0o"
   },
   "source": [
    "# Authors:\n"
   ]
  },
  {
   "cell_type": "markdown",
   "metadata": {
    "id": "6y0M9Wq5S2Wv"
   },
   "source": [
    "***Franz J. Kurfess, Siddarth Viswanathan, Charles O'Hanlon***\n",
    "\n",
    "California Polytechnic State University, San Luis Obispo;\n",
    "\n",
    "Computer Science & Software Engineering Department"
   ]
  },
  {
   "cell_type": "markdown",
   "metadata": {
    "id": "pVI_bs4tQILD"
   },
   "source": [
    "# Part 1: Colab and Jupyter Notebooks\n"
   ]
  },
  {
   "cell_type": "code",
   "execution_count": null,
   "metadata": {
    "colab": {
     "base_uri": "https://localhost:8080/",
     "height": 34
    },
    "id": "UH-Fh3SkL5qR",
    "outputId": "0ca3a328-56e7-4fd1-ad6d-103fd1074b06"
   },
   "outputs": [],
   "source": [
    "print(\"Hello World\")"
   ]
  },
  {
   "cell_type": "markdown",
   "metadata": {
    "id": "pNFyUN2TV5xe"
   },
   "source": [
    "A Colab consists of a Jupyter notebook that is set up in the cloud. Jupyter notebooks (and thus Colabs) are composed of text cells (like this one) and code cells. An example of a code cell is below; it is marked by two square brackets '[ ]', which turn into an arrow when you move the cursor over them. Clicking on the arrow \"runs\" the cell: the code contained in the cell is executed. If the code produces an output, it is displayed underneath. There may be a number enclosed between the two brackets. This indicates that the code has been run multiple times."
   ]
  },
  {
   "cell_type": "code",
   "execution_count": null,
   "metadata": {
    "id": "Z0TnSyf_pULA"
   },
   "outputs": [],
   "source": []
  },
  {
   "cell_type": "markdown",
   "metadata": {
    "id": "PYr9fSJuMA4y"
   },
   "source": [
    "## Google Account\n",
    "You need to have a Google account that lets you store files on GDrive. If you have a Gmail account, you should be able to go to [Google Drive](https://drive.google.com/) and log in with your Gmail login and password. If not, [set up a Google Account](https://support.google.com/accounts/answer/27441?hl=en) or reach out to your instructor about alternatives.\n",
    "\n",
    "\n"
   ]
  },
  {
   "cell_type": "markdown",
   "metadata": {
    "id": "ObEp5kafQTfp"
   },
   "source": [
    "## Create Your Copy\n",
    "If you want to use and modify a lab, you need to save a copy. To do so, go to the 'File' menu, select 'Save a copy in Drive' and change the name (it begins with 'Copy of ...'). You can share Colab notebooks with others, similar to sharing a document on Google Drive. Despite the possible interpretation of the name as \"Collaboration Lab\", collaborative editing of the same document is limited.\n"
   ]
  },
  {
   "cell_type": "markdown",
   "metadata": {
    "id": "nHL9QQl7QXW9"
   },
   "source": [
    "## Set Up a Colab\n",
    "Colabs run in the cloud through your Web browser. There's no need to install software on your computer. A Colab may require other software (libraries) to run, but this is done in the Colab itself, usually at the beginning.  "
   ]
  },
  {
   "cell_type": "markdown",
   "metadata": {
    "id": "dm4rb6kITXQo"
   },
   "source": [
    "# Overview"
   ]
  },
  {
   "cell_type": "markdown",
   "metadata": {
    "id": "r1BYWB1QTeue"
   },
   "source": [
    "Let's apply our new knowledge of Jupyter Notebooks and work through some short coding exercises."
   ]
  },
  {
   "cell_type": "markdown",
   "metadata": {
    "id": "zRZebPe-UUYf"
   },
   "source": [
    "Identify the requirements and expectations concerning the background of the participants."
   ]
  },
  {
   "cell_type": "markdown",
   "metadata": {
    "id": "Ysx6aVbsUiLk"
   },
   "source": [
    "## Learning Objectives"
   ]
  },
  {
   "cell_type": "markdown",
   "metadata": {
    "id": "nU2BOLDGUluv"
   },
   "source": [
    "*   Run and create code cells in a Jupyter Notebook\n",
    "*   Review function declaration and loops in Python\n",
    "* Explore external libraries like NumPy\n",
    "\n"
   ]
  },
  {
   "cell_type": "markdown",
   "metadata": {
    "id": "wNJ5iqyzsMIc"
   },
   "source": [
    "## Exercise 1"
   ]
  },
  {
   "cell_type": "markdown",
   "metadata": {
    "id": "yG19Czm0sUuc"
   },
   "source": [
    "Given the array, `arr`, write a function that computes and prints the sum of each row or column.\n",
    "\n",
    "Input:\n",
    "\n",
    "*   `arr`, a 2-D array of integers\n",
    "*   `row_or_col`, an integer describing whether to calculate the sum over a row or column (0 = column, 1 = row)"
   ]
  },
  {
   "cell_type": "code",
   "execution_count": null,
   "metadata": {
    "id": "4IT1EVpjsbkV"
   },
   "outputs": [],
   "source": [
    "arr = [[1, 4, 5, 6],\n",
    "       [5, 12, 3, 2],\n",
    "       [17, 34, 1, 0],\n",
    "       [4, 6, 7, 9]]"
   ]
  },
  {
   "cell_type": "code",
   "execution_count": null,
   "metadata": {
    "id": "NdvhOW3JtjxW"
   },
   "outputs": [],
   "source": [
    "# Write your code here"
   ]
  },
  {
   "cell_type": "markdown",
   "metadata": {
    "id": "4XMbro9aHfjD"
   },
   "source": [
    "## Exercise 2"
   ]
  },
  {
   "cell_type": "markdown",
   "metadata": {
    "id": "TpJ0BEDwuAIh"
   },
   "source": [
    "NumPy is a powerful Python library that can efficiently store high-dimensional lists. It also offers useful functions that can simplify list manipulation tasks or calculations (like the one above)\n",
    "\n",
    "Consult the [NumPy API](https://numpy.org/doc/stable/reference/index.html#reference) or use a Generative AI Tool to create a function that converts `arr` to a NumPy array and calculate the sum through a NumPy function call.\n",
    "(Converting the array can be done in a single line and calculating the sum can be done in a single line without writing a loop)"
   ]
  },
  {
   "cell_type": "code",
   "execution_count": null,
   "metadata": {
    "vscode": {
     "languageId": "shellscript"
    }
   },
   "outputs": [],
   "source": [
    "%pip install numpy  # Install the numpy package"
   ]
  },
  {
   "cell_type": "code",
   "execution_count": null,
   "metadata": {
    "id": "Gi8p9DlIwDqn"
   },
   "outputs": [],
   "source": [
    "import numpy as np  # Normally all imports should be done at the top of a notebook\n",
    "\n",
    "# Write your code here"
   ]
  },
  {
   "cell_type": "markdown",
   "metadata": {},
   "source": [
    "# References"
   ]
  },
  {
   "cell_type": "markdown",
   "metadata": {},
   "source": [
    "* Bonner, A. (2019). Getting Started With Google Colab. Medium.\n",
    "https://towardsdatascience.com/getting-started-with-google-colab-f2fff97f594c\n",
    "* Dair.AI. (2019). Writing Primer for Data Scientists. DAIR Diverse Artificial Intelligence Research Initiative. https://colab.research.google.com/drive/1qi8bXjH389MipsFx3KVQQwGwefDgzzoe\n",
    "* Elvis. (2018). Primer for Learning Google Colab. Medium. https://medium.com/dair-ai/primer-for-learning-google-colab-bb4cabca5dd6\n",
    "* Google CoLab. (2018). Google Colaboratory: Welcome: Introduction to Machine Learning Labs. Google. https://colab.research.google.com/drive/1EIB6pAaMM6C2MIdxsrGntYrQoUfcsbmS#forceEdit=true&sandboxMode=true\n",
    "* Sagar, A. (2019). One-Stop Guide to Google Colab. Medium. https://towardsdatascience.com/one-stop-guide-to-google-colab-d67c94d30516\n",
    "\n",
    "\n"
   ]
  },
  {
   "cell_type": "markdown",
   "metadata": {
    "id": "kQtcmEbf3e5e"
   },
   "source": [
    "# Part 2: AutoGen Framework and a Simple Agent"
   ]
  },
  {
   "cell_type": "markdown",
   "metadata": {},
   "source": [
    "### Core Packages"
   ]
  },
  {
   "cell_type": "code",
   "execution_count": null,
   "metadata": {
    "id": "AZpIytg593P7",
    "vscode": {
     "languageId": "shellscript"
    }
   },
   "outputs": [],
   "source": [
    "%pip install \"autogen-core\" \"autogen-agentchat\" \"autogen-ext[openai,azure]\""
   ]
  },
  {
   "cell_type": "code",
   "execution_count": null,
   "metadata": {},
   "outputs": [],
   "source": [
    "import os\n",
    "import asyncio\n",
    "from autogen_agentchat.agents import AssistantAgent\n",
    "from autogen_agentchat.ui import Console\n",
    "from autogen_ext.models.openai import AzureOpenAIChatCompletionClient"
   ]
  },
  {
   "cell_type": "code",
   "execution_count": null,
   "metadata": {},
   "outputs": [],
   "source": [
    "# For our Azure OpenAI deployment (wouldn't touch if I were you)\n",
    "azure_deployment = \"you-deployment-name\"\n",
    "api_version = \"2024-12-01-preview\"  # If you're using gpt-5-mini as demonstrated\n",
    "\n",
    "# e.g. https://ccoha-mfoynknp-eastus2.cognitiveservices.azure.com/\n",
    "azure_endpoint = \"your-endpoint\""
   ]
  },
  {
   "cell_type": "markdown",
   "metadata": {},
   "source": [
    "## Simple Agent"
   ]
  },
  {
   "cell_type": "code",
   "execution_count": null,
   "metadata": {},
   "outputs": [],
   "source": [
    "async def setup_simple_chat():\n",
    "    client = AzureOpenAIChatCompletionClient(\n",
    "        azure_deployment=azure_deployment,\n",
    "        model=\"gpt-5-mini\",  # Only model we have deployed right now\n",
    "        api_version=api_version,\n",
    "        azure_endpoint=azure_endpoint,\n",
    "        api_key=os.getenv(\"AZURE_SUBSCRIPTION_KEY\"),\n",
    "    )\n",
    "\n",
    "    assistant = AssistantAgent(\n",
    "        name=\"SimpleAgent\",\n",
    "        model_client=client,\n",
    "        # The system message guides the LLM's behavior. It's read by the model before each completion.\n",
    "        system_message=\"You are a helpful AI assistant. Provide clear, concise, and helpful responses to user questions.\",\n",
    "    )\n",
    "\n",
    "    # Console function to print the response\n",
    "    await Console(assistant.run_stream(task=\"What is the meaning of life?\"))\n",
    "\n",
    "\n",
    "# Run the simple chat assistant\n",
    "await setup_simple_chat()"
   ]
  },
  {
   "cell_type": "markdown",
   "metadata": {},
   "source": [
    "Check out the AutoGen documentation [here](https://microsoft.github.io/autogen/stable/index.html) if you're interested in exploring the API further."
   ]
  }
 ],
 "metadata": {
  "colab": {
   "provenance": []
  },
  "kernelspec": {
   "display_name": "Python 3",
   "name": "python3"
  },
  "language_info": {
   "codemirror_mode": {
    "name": "ipython",
    "version": 3
   },
   "file_extension": ".py",
   "mimetype": "text/x-python",
   "name": "python",
   "nbconvert_exporter": "python",
   "pygments_lexer": "ipython3",
   "version": "3.10.18"
  }
 },
 "nbformat": 4,
 "nbformat_minor": 0
}
