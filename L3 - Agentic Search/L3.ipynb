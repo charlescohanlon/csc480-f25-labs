{
 "cells": [
  {
   "cell_type": "markdown",
   "id": "2d8b3187",
   "metadata": {},
   "source": [
    "# CSC 480-F25 Lab 3: Agentic Heuristic Search (NYT Spelling Bee)"
   ]
  },
  {
   "cell_type": "markdown",
   "id": "597fcded",
   "metadata": {},
   "source": [
    "# Authors:"
   ]
  },
  {
   "cell_type": "markdown",
   "id": "ecc34f35",
   "metadata": {},
   "source": [
    "***[Team Member 1], [Team Member 2], [Team Member 3]***\n",
    "\n",
    "California Polytechnic State University, San Luis Obispo;\n",
    "\n",
    "Computer Science & Software Engineering Department"
   ]
  },
  {
   "cell_type": "markdown",
   "id": "5d17928c",
   "metadata": {},
   "source": [
    "# Overview\n",
    "\n",
    "This lab focuses on:\n",
    "- Integrating a provided generalized search engine as a tool inside an agentic workflow\n",
    "- Designing an agentic heuristic system that collaborates to estimate $h(n)$ for NYT Spelling Bee states\n",
    "- Implementing a custom cost function $g(n)$ and evaluating search strategies (Uniform Cost, A*)\n",
    "- Coordinating agent communication via MCP-style tool exposure and A2A interactions\n",
    "- Reflecting on how agentic heuristics complement classical search methods\n",
    "\n",
    "NOTE: The Spelling Bee problem definition and generalized search function are provided for you. Your primary work is to wire them into your agentic solution and iterate on the heuristic design (see part 2 of this notebook).\n",
    "\n",
    "## Learning Objectives\n",
    "\n",
    "By the end of this lab, you will be able to:\n",
    "\n",
    "- Integrate a provided generalized search function as a tool within an AutoGen-based agentic system\n",
    "- Design and implement an agent team that produces numeric heuristic estimates to guide search\n",
    "- Define and justify a cost function that complements your heuristic in the Spelling Bee domain\n",
    "- Specify MCP-style tool schemas and A2A message flows for heuristic collaboration\n",
    "- Analyze how different heuristic strategies impact search quality, cost, and convergence"
   ]
  },
  {
   "cell_type": "markdown",
   "id": "c55e9e0d",
   "metadata": {},
   "source": [
    "# Part 1: Agentic Heuristic Design and Planning"
   ]
  },
  {
   "cell_type": "markdown",
   "id": "168872dd",
   "metadata": {},
   "source": [
    "## 1. Problem Statement & Search Context\n",
    "\n",
    "**Provided Problem:** NYT Spelling Bee puzzle instance (letters, required center letter, dictionary utilities)\n",
    "\n",
    "**Goal:** Integrate the provided Spelling Bee problem specification with the generalized search engine and your agentic heuristic.\n",
    "\n",
    "**Task Breakdown:** Outline the high-level steps you will take to reach a working solution.\n",
    "1. [Describe how you will configure the provided problem]\n",
    "2. [Describe how you will expose the generalized search tool]\n",
    "3. [Describe how you will design and orchestrate the heuristic agents]\n",
    "4. [Describe how you will validate and iterate on the heuristic]\n",
    "5. [Additional steps as needed]"
   ]
  },
  {
   "cell_type": "markdown",
   "id": "56161440",
   "metadata": {},
   "source": [
    "## 2. Agentic Heuristic Team Definition\n",
    "\n",
    "Define the agents who collaborate to estimate $h(n)$ for a given Spelling Bee state. Feel free to use more, or fewer.\n",
    "\n",
    "### Agent 1: [Agent Name]\n",
    "- **Role:** [Heuristic role/purpose]\n",
    "- **Responsibilities:** [Specific scoring/analysis tasks]\n",
    "- **Inputs:** [State features or tool outputs]\n",
    "- **Outputs:** [Score, rationale, metadata]\n",
    "- **Success Criteria:** [How you’ll evaluate this agent’s contribution]\n",
    "\n",
    "### Agent 2: [Agent Name]\n",
    "- **Role:** [...]\n",
    "- **Responsibilities:** [...]\n",
    "- **Inputs:** [...]\n",
    "- **Outputs:** [...]\n",
    "- **Success Criteria:** [...]\n",
    "\n",
    "### Agent 3: [Agent Name]\n",
    "- **Role:** [...]\n",
    "- **Responsibilities:** [...]\n",
    "- **Inputs:** [...]\n",
    "- **Outputs:** [...]\n",
    "- **Success Criteria:** [...]"
   ]
  },
  {
   "cell_type": "markdown",
   "id": "53934c12",
   "metadata": {},
   "source": [
    "## 3. Tool Integration & Coordination Pattern\n",
    "\n",
    "**Chosen Pattern:** [Manager-Worker / Sequential Pipeline / Collaborative Team]\n",
    "\n",
    "**Justification:** [Explain the coordination style for your heuristic agents and how they integrate with the generalized search tool.]\n",
    "\n",
    "**Integration Plan:** Outline how you will connect the provided components.\n",
    "- Register the generalized_search function as a tool (inputs/outputs, MCP schema)\n",
    "- Connect `cost_fn` (pure Python) and `heuristic_fn` (agentic) to the tool call\n",
    "- Describe any state or configuration the orchestrator agent must maintain\n",
    "- Identify how heuristic scores will be aggregated into a single numeric value"
   ]
  },
  {
   "cell_type": "markdown",
   "id": "cdec6d3d",
   "metadata": {},
   "source": [
    "## 4. Communication Design\n",
    "\n",
    "### Model Context Protocol (MCP)\n",
    "**Tool Schema:** [Describe how generalized_search (and optional utilities) are exposed, including parameter names and types.]\n",
    "\n",
    "### Agent-to-Agent (A2A) Interactions\n",
    "\n",
    "Describe the kind of communications you expect from your system.\n",
    "\n",
    "#### Interaction 1: [Sender] → [Receiver]\n",
    "- **Purpose:** [Why this message is sent]\n",
    "- **Key Fields:** [Scores, rationales, state descriptors]\n",
    "- **Message Format:** [Short description of structure]\n",
    "\n",
    "#### Interaction 2: [Sender] → [Receiver]\n",
    "- **Purpose:** [...]\n",
    "- **Key Fields:** [...]\n",
    "- **Message Format:** [...]\n",
    "\n",
    "*(Add more interactions as needed.)*"
   ]
  },
  {
   "cell_type": "markdown",
   "id": "eacb6914",
   "metadata": {},
   "source": [
    "# Part 2: Integrating the Generalized Search Tool"
   ]
  },
  {
   "cell_type": "markdown",
   "id": "2c1fd14e",
   "metadata": {},
   "source": [
    "## Environment Setup\n",
    "\n",
    "Install required packages and configure model access before running the agentic heuristic experiments."
   ]
  },
  {
   "cell_type": "code",
   "execution_count": null,
   "id": "0c2d75f5",
   "metadata": {},
   "outputs": [],
   "source": [
    "%pip install \"autogen-core\" \"autogen-agentchat\" \"autogen-ext[openai,azure]\""
   ]
  },
  {
   "cell_type": "code",
   "execution_count": null,
   "id": "0678a3ac",
   "metadata": {},
   "outputs": [],
   "source": [
    "import os\n",
    "import asyncio\n",
    "from dataclasses import asdict\n",
    "\n",
    "from autogen_agentchat.agents import AssistantAgent\n",
    "from autogen_agentchat.conditions import TextMentionTermination\n",
    "from autogen_agentchat.teams import RoundRobinGroupChat\n",
    "from autogen_agentchat.base import TaskResult\n",
    "from autogen_ext.models.openai import AzureOpenAIChatCompletionClient\n",
    "\n",
    "from utils import SpellingBeeProblem, SearchResult, generalized_search"
   ]
  },
  {
   "cell_type": "code",
   "execution_count": null,
   "id": "61e72813",
   "metadata": {},
   "outputs": [],
   "source": [
    "# Just like in the other labs\n",
    "azure_deployment = ...\n",
    "api_version = ...\n",
    "azure_endpoint = ...\n",
    "\n",
    "# Expect AZURE_SUBSCRIPTION_KEY to be set in environment variables"
   ]
  },
  {
   "cell_type": "markdown",
   "id": "2575983f",
   "metadata": {},
   "source": [
    "## Agentic Heuristic Architecture Blueprint\n",
    "\n",
    "Based on the overview, sketch out how your heuristic agents and the generalized search tool interact:\n",
    "- **Feasibility Agent**: Evaluates constraint satisfaction and dictionary viability.\n",
    "- **Completeness Agent**: Estimates remaining effort to reach a valid Spelling Bee solution.\n",
    "- **Score Aggregator Agent**: Combines the scores and analysis of other agents into a final score.\n",
    "- *(Optional)* Additional agents for scoring letter diversity, pangram potential, etc.\n",
    "\n",
    "NOTE: The below system is just a example. Feel free to make it your own as you designed in part 1."
   ]
  },
  {
   "cell_type": "code",
   "execution_count": null,
   "id": "2b5946f6",
   "metadata": {},
   "outputs": [],
   "source": [
    "def setup_agentic_heuristic_system():\n",
    "    \"\"\"Instantiate heuristic agents for Spelling Bee state evaluation.\"\"\"\n",
    "    client = AzureOpenAIChatCompletionClient(\n",
    "        azure_deployment=azure_deployment,\n",
    "        model=\"gpt-5-mini\",\n",
    "        api_version=api_version,\n",
    "        azure_endpoint=azure_endpoint,\n",
    "        api_key=os.getenv(\"AZURE_SUBSCRIPTION_KEY\"),\n",
    "    )\n",
    "\n",
    "    feasibility = AssistantAgent(\n",
    "        name=\"FeasibilityAnalyst\",\n",
    "        model_client=client,\n",
    "        system_message=\"\"\"You analyze whether a partial word can become a valid Spelling Bee answer.\n",
    "Cost: low (bad), high (excellent). Include rationale and numeric score line 'SCORE: <float>'.\"\"\",\n",
    "    )\n",
    "\n",
    "    completeness = AssistantAgent(\n",
    "        name=\"CompletenessEstimator\",\n",
    "        model_client=client,\n",
    "        system_message=\"\"\"You estimate remaining effort to reach a full valid word.\n",
    "Cost: low (far) to high (close). Include rationale and numeric score line 'SCORE: <float>'.\"\"\",\n",
    "    )\n",
    "\n",
    "    aggregator = AssistantAgent(\n",
    "        name=\"HeuristicAggregator\",\n",
    "        model_client=client,\n",
    "        system_message=\"\"\"You coordinate heuristic scoring for Spelling Bee nodes.\n",
    "You will:\n",
    "1. Consider analyses from collaborators.\n",
    "2. Combine their numeric scores and rationales.\n",
    "3. Return a single numeric heuristic estimate h(n).\n",
    "Always end responses with FINAL_SCORE: <float>.\"\"\",\n",
    "    )\n",
    "\n",
    "    return feasibility, completeness, aggregator"
   ]
  },
  {
   "cell_type": "code",
   "execution_count": null,
   "id": "8d32132e",
   "metadata": {},
   "outputs": [],
   "source": [
    "def cost_fn(parent_state, action, next_state) -> float:\n",
    "    \"\"\"\n",
    "    Return the incremental cost g(n) for moving to next_state.\n",
    "    Customize this to reflect letter usage, word length, or other criteria.\n",
    "\n",
    "    Args:\n",
    "        parent_state: The current sub-word.\n",
    "        action: The next letter added.\n",
    "        next_state: The sub-word after adding the action letter.\n",
    "    Returns:\n",
    "        A numeric cost value (float).\n",
    "    \"\"\"\n",
    "    # Simple example: cost is proportional to the length of the new state\n",
    "    return len(next_state)"
   ]
  },
  {
   "cell_type": "code",
   "execution_count": null,
   "id": "562f3961",
   "metadata": {},
   "outputs": [],
   "source": [
    "async def run_agentic_search(\n",
    "    spelling_bee: SpellingBeeProblem, strategy: str = \"a_star\"\n",
    "):\n",
    "    \"\"\"Execute the generalized search with your cost and heuristic functions.\"\"\"\n",
    "    feasibility, completeness, aggregator = setup_agentic_heuristic_system()\n",
    "\n",
    "    async def heuristic_fn(state, min_state_len=3) -> float:\n",
    "        \"\"\"\n",
    "        Delegate to the agentic heuristic system to compute h(n) for `state`. In our problem space,\n",
    "        state is a partial word. You will need to implement the logic to send messages to your agents,\n",
    "        gather their responses, and compute a final numeric heuristic value.\n",
    "\n",
    "        Args:\n",
    "            state: The current state (partial word) to evaluate.\n",
    "        Returns:\n",
    "            A numeric heuristic estimate (float).\n",
    "        \"\"\"\n",
    "        if len(state) < min_state_len:\n",
    "            # No heuristic value for very short states\n",
    "            # There isn't enough information to evaluate\n",
    "            return 0.0\n",
    "\n",
    "        # See https://microsoft.github.io/autogen/stable//reference/python/autogen_agentchat.teams.html\n",
    "        team = RoundRobinGroupChat(\n",
    "            [feasibility, completeness, aggregator],\n",
    "            termination_condition=TextMentionTermination(\"FINAL_SCORE:\"),\n",
    "        )\n",
    "\n",
    "        # Get the result from the team\n",
    "        messages_generator = team.run_stream(\n",
    "            task=f\"Evaluate heuristic for state: {state}\", output_task_messages=False\n",
    "        )\n",
    "        async for message in messages_generator:\n",
    "            if isinstance(message, TaskResult):\n",
    "                response = message.messages[-1].content\n",
    "                break\n",
    "\n",
    "        # Parse the numeric score from the orchestrator's response\n",
    "        try:\n",
    "            score_line = next(\n",
    "                line for line in response.splitlines() if \"FINAL_SCORE:\" in line\n",
    "            )\n",
    "            start_idx = score_line.index(\"FINAL_SCORE:\") + len(\"FINAL_SCORE:\")\n",
    "            end_idx = score_line.index(\".\", start_idx) + 1\n",
    "            final_score = float(score_line[start_idx:end_idx].strip())\n",
    "            return final_score\n",
    "        except (StopIteration, ValueError, IndexError):\n",
    "            print(\"Failed to parse score from orchestrator response. Defaulting to 0.0\")\n",
    "            return 0.0\n",
    "\n",
    "    print(f\"Running {strategy} search on: {spelling_bee}\")\n",
    "\n",
    "    result: SearchResult = await generalized_search(\n",
    "        problem=spelling_bee,\n",
    "        cost_fn=cost_fn,\n",
    "        heuristic_fn=heuristic_fn,\n",
    "        strategy=strategy,\n",
    "        max_expansions=None,  # May want to set this for debugging\n",
    "        verbose=True,\n",
    "    )\n",
    "\n",
    "    result_summary = asdict(result)\n",
    "    print(\"SearchResult summary:\")\n",
    "    for key, value in result_summary.items():\n",
    "        print(f\"  {key}: {value}\")\n",
    "\n",
    "    return result"
   ]
  },
  {
   "cell_type": "markdown",
   "id": "11e27464",
   "metadata": {},
   "source": [
    "## Example Puzzle 1: Starter Configuration\n",
    "\n",
    "Test the integrated system on a small Spelling Bee instance provided with the lab."
   ]
  },
  {
   "cell_type": "code",
   "execution_count": null,
   "id": "7224610e",
   "metadata": {},
   "outputs": [],
   "source": [
    "# Provided helper will create a Spelling Bee problem instance, e.g. letters=\"ADELOPR\", center=\"O\"\n",
    "starter_problem = SpellingBeeProblem.from_letters(\n",
    "    letters=[\"A\", \"D\", \"E\", \"L\", \"O\", \"P\", \"R\"],\n",
    "    required_letter=\"O\",\n",
    ")\n",
    "\n",
    "# Uncomment to run once cost_fn and heuristic_fn are implemented\n",
    "await run_agentic_search(starter_problem, strategy=\"a_star\")"
   ]
  },
  {
   "cell_type": "markdown",
   "id": "5c09db3e",
   "metadata": {},
   "source": [
    "## Example Puzzle 2: Alternate Strategy Comparison\n",
    "\n",
    "Run the same instance under Uniform Cost Search to compare behavior vs. A*."
   ]
  },
  {
   "cell_type": "code",
   "execution_count": null,
   "id": "b62112e4",
   "metadata": {},
   "outputs": [],
   "source": [
    "# Uncomment to compare strategies once heuristic_fn is operational\n",
    "# await run_agentic_search(starter_problem, strategy=\"uniform_cost\")"
   ]
  },
  {
   "cell_type": "markdown",
   "id": "b502b40b",
   "metadata": {},
   "source": [
    "## Your Experiment\n",
    "\n",
    "Define your own Spelling Bee instance or heuristic variant and record results. This could be [today's puzzle](https://www.nytimes.com/puzzles/spelling-bee)."
   ]
  },
  {
   "cell_type": "code",
   "execution_count": null,
   "id": "dcc3672b",
   "metadata": {},
   "outputs": [],
   "source": [
    "custom_problem = SpellingBeeProblem.from_letters(\n",
    "    letters=[...],\n",
    "    required_letter=\"...\",\n",
    ")\n",
    "\n",
    "# await run_agentic_search(custom_problem, strategy=\"a_star\")"
   ]
  },
  {
   "cell_type": "markdown",
   "id": "50c59100",
   "metadata": {},
   "source": [
    "## Reflection & Analysis\n",
    "\n",
    "### Heuristic effectiveness\n",
    "[Discuss where your agentic heuristic provided strong guidance.]\n",
    "\n",
    "### Failure modes / surprises\n",
    "[Document puzzles or states where the heuristic misled the search or produced high cost.]\n",
    "\n",
    "### Cost vs. heuristic alignment\n",
    "[Reflect on whether $g(n)$ and $h(n)$ share compatible units/scales.]\n",
    "\n",
    "### Communication insights\n",
    "[Explain how MCP/A2A design choices supported or hindered collaboration.]\n",
    "\n",
    "### Future improvements\n",
    "[Outline ideas for richer heuristics, additional agents, or tool integrations.]"
   ]
  },
  {
   "cell_type": "markdown",
   "id": "a1d173ae",
   "metadata": {},
   "source": [
    "## References\n",
    "\n",
    "- `L3_overview.md`\n",
    "- [AutoGen Documentation](https://microsoft.github.io/autogen/stable/index.html)\n",
    "- [Model Context Protocol](https://modelcontextprotocol.io/docs/getting-started/intro)\n",
    "- [Agent-to-Agent Protocol](https://a2a-protocol.org/latest/)\n",
    "- [NYT Spelling Bee](https://www.nytimes.com/puzzles/spelling-bee)"
   ]
  }
 ],
 "metadata": {
  "kernelspec": {
   "display_name": "Python 3",
   "language": "python",
   "name": "python3"
  },
  "language_info": {
   "codemirror_mode": {
    "name": "ipython",
    "version": 3
   },
   "file_extension": ".py",
   "mimetype": "text/x-python",
   "name": "python",
   "nbconvert_exporter": "python",
   "pygments_lexer": "ipython3",
   "version": "3.10.18"
  }
 },
 "nbformat": 4,
 "nbformat_minor": 5
}
